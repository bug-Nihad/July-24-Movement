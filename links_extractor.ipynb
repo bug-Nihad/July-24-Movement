{
 "cells": [
  {
   "cell_type": "code",
   "execution_count": 9,
   "metadata": {},
   "outputs": [],
   "source": [
    "with open('all_links.txt', 'r', encoding='utf-8') as full_text:\n",
    "    content = full_text.read()\n",
    "    # print(content)"
   ]
  },
  {
   "cell_type": "code",
   "execution_count": 10,
   "metadata": {},
   "outputs": [],
   "source": [
    "link_cat = content.split('\\n\\n')"
   ]
  },
  {
   "cell_type": "code",
   "execution_count": 11,
   "metadata": {},
   "outputs": [],
   "source": [
    "link_cat.remove('')"
   ]
  },
  {
   "cell_type": "code",
   "execution_count": 12,
   "metadata": {},
   "outputs": [
    {
     "data": {
      "text/plain": [
       "['ইতিহাসের সাহসীতম প্রতিবাদ\\n(তিন তিনবার বুক পেতে গুলি নেয়া বাংলার বীর আবু সাঈদ)\\nhttps://www.facebook.com/share/v/N6GV8FpwdQtfBrGj/?mibextid=UalRPS\\nপানি লাগবে? পানি? (বীর মুগ্ধ)\\nhttps://www.facebook.com/share/r/pTt4MrGFSDgie1rq/?mibextid=UalRPS\\nশহীদ আসহাবুল ইয়ামিনের সেই হৃদয়বিদারক দৃশ্য\\nhttps://www.facebook.com/share/v/pP9AHjGwXDBV7BpR/?mibextid=UalRPS\\nপ্রথম প্রহরের বীরেরা\\nhttps://www.facebook.com/share/r/qsLYZgbqZvQpsQKE/?mibextid=UalRPS\\nশহীদ তাহমিদের পিতার আর্তনাদ\\nhttps://www.facebook.com/share/r/33kMEiVx9L4cXcZP/?mibextid=UalRPS\\nশহীদদের ছবি\\nhttps://www.facebook.com/share/r/RijEZMj12HdRqAgh/?mibextid=UalRPS\\nশহীদ তাহির হাসানের ছোট্ট মেয়ে পদ্মপ্রিয়র কথা\\nhttps://www.facebook.com/share/v/qwdN4LgoxX4gra5a/?mibextid=UalRPS\\nশিশুশহীদ আহাদের পিতার কথা\\nhttps://www.facebook.com/share/r/4mmcYQyYApS7eisV/?mibextid=UalRPS\\nব্র্যাক বিশ্ববিদ্যালয়ে যখন শহীদ আসিফ হাসানকে আনা হয়\\nhttps://www.facebook.com/share/r/AamAGFERsmAYgu83/?mibextid=UalRPS\\nবাসার বারান্দায় শহীদ নাঈমা সুলতানার গুলিবিদ্ধ হবার দৃশ্য\\nhttps://www.facebook.com/share/v/kkqe1EPL8tMa96wi/?mibextid=UalRPS',\n",
       " '৩.১. বিজয় উদযাপন (১০ টি ভিডিও)\\nপতাকা ওড়ানো উদযাপন\\nhttps://www.facebook.com/share/r/nenHXc7kFzr4xdzC/?mibextid=UalRPS\\nপ্রধানমন্ত্রীর কার্যালয় দখল ও উদযাপন\\nhttps://www.facebook.com/share/r/fpBbvjwZrbdVX8WM/?mibextid=UalRPS\\nজনতার প্যারেড -১.\\nhttps://www.facebook.com/share/r/6B9SbNt6eoTGj6Gi/?mibextid=UalRPS\\n২.\\nhttps://www.facebook.com/share/r/FTwGczE5zt8BoUwt/?mibextid=UalRPS\\nমিষ্টি বিতরণ\\nhttps://www.facebook.com/share/r/rQJuxbg2k8xC3cse/?mibextid=UalRPS\\nবিজয়ের পর সেনাবাহিনীর সাথে জনগণের উদযাপন\\nhttps://www.facebook.com/share/r/NQnb6mGr3dP4hpAb/?mibextid=UalRPS\\nসেনা-জনতার অভিবাদন\\nhttps://www.facebook.com/share/r/nJgNh48PKqvXboqX/?mibextid=UalRPS\\nঅগাস্টের ৩ তারিখে জিতে যাওয়া চট্টগ্রাম\\nhttps://www.facebook.com/share/r/wMEP5NQFTtXgtzyw/?mibextid=UalRPS\\nনরসিংদীর শহীদ তাহমিদ স্কয়ারে বিজয়ের পরপর\\nhttps://www.facebook.com/share/r/FGkoQoV1JxyumwCM/?mibextid=UalRPS\\nখুলনায় উদযাপন\\nhttps://www.facebook.com/share/r/81A8uwfU3Qsmw45q/?mibextid=UalRPS',\n",
       " '\\n৪.৩. পুলিশি জুলুম (৯ টি ভিডিও)\\nপুরো আন্দোলনের একটি অসাধারণ ডকুমেন্ট্রি\\nhttps://www.facebook.com/share/v/1VydHuQqub/?\\n“মরে একটা, আহত হয় একটা, একটাই যায়, বাকিডি লড়েনা” - মৃতদের নিয়ে পুলিশের বিভৎস বর্ণনা\\nhttps://www.facebook.com/share/v/Ght5rQ4yYevQrydx/?mibextid=UalRPS\\nমারধোর\\nhttps://www.facebook.com/share/r/ogQnSQwxKHYrZ7hs/?mibextid=UalRPS\\nকলেমা পড়তে থাকা আহত যুবক (ভায়োলেন্স এ্যালার্ট)\\nhttps://www.facebook.com/share/r/wvdNeZWBNM52bJHh/?mibextid=UalRPS\\nগ্রেফতার হতে হতে বক্তব্য\\nhttps://www.facebook.com/share/r/wbbWrTy9aZzd8Xev/?mibextid=UalRPS\\nহেলিকপ্টার থেকে ছোঁড়া গুলি/সাউন্ড গ্রেনেড\\nhttps://www.facebook.com/share/r/7hiC4c4GH6CAXuWL/?mibextid=UalRPS\\nহেলিকপ্টার থেকে ছোঁড়া গুলি/সাউন্ড গ্রেনেড\\nhttps://www.facebook.com/share/r/kKAEQjA9toezxmdK/?mibextid=UalRPS\\nনির্বিচার গুলি\\nhttps://www.facebook.com/share/r/uhSuXVKRvBmkEKnT/?mibextid=UalRPS\\nনিরস্ত্র জনতার গায়ের ওপর বেপরোয়া গাড়ি তুলে পুলিশের হত্যাচেষ্টা\\nhttps://www.facebook.com/share/v/wsyMUoFBCNFapLuq/?',\n",
       " '\\n৫. আওয়ামী লীগের জুলুম (১০টি ভিডিও)\\nঢাবি ছাত্রীদের মারধোর\\nhttps://www.facebook.com/share/r/gCW7UqTaK6weidRJ/?mibextid=UalRPS\\nআরাফাতের নির্লজ্জ মিথ্যাচার\\nhttps://www.facebook.com/share/r/ejgqBz8LRUJLjmEm/?mibextid=UalRPS\\nকিছু হত্যাকারীর পরিচয়\\nhttps://www.facebook.com/share/v/SGuXjYr6JcWj3E41/?mibextid=UalRPS\\nআন্দোলনরত মহিলা নাগরিককে মারধোর\\nhttps://www.facebook.com/share/v/StmjmxxuwqyriVBL/?mibextid=UalRPS\\nমর্গে নিহতদের মৃতদেহের স্তুপ\\nhttps://www.facebook.com/share/v/4BREv9ay48NVQTCh/?\\nলাশ স্থানান্তর\\nhttps://www.facebook.com/share/v/XNYjp6G5NJusUfZT/?\\nখোলারাস্তায় দিনেদুপুরে ওপেন ফায়ার করছে ছাত্রলীগের দানবেরা\\nhttps://www.facebook.com/share/v/m2xzWcTnyiaJnRVq/?mibextid=UalRPS\\nবাসার ছাদ থেকে জনতাকে লক্ষ্য করে গুলি ছুঁড়ছে আওয়ামী দানব (পরিচয়: ঝিনাইদহের পোড়াহাটি ইউনিয়নের চেয়ারম্যান শহীদুল ইসলাম হিরন)\\nhttps://www.facebook.com/share/v/yNLY4MSPsVPuxJ7e/?\\nরামদা দিয়ে নিরস্ত্র ছাত্রদের কোপাচ্ছে ছাত্রলীগের সন্ত্রাসীরা\\nhttps://www.facebook.com/share/v/Sih9SQGPb7kCcsDT/?\\nনিরস্ত্র ছাত্র কুপিয়ে হত্যা করেছে ছাত্রলীগের সন্ত্রাসীরা\\nhttps://www.facebook.com/share/v/qjV29gddXekVGF1z/?',\n",
       " '\\n৬.২. আন্দোলনের চিত্র (১০ টি ভিডিও)\\nশুরুর দিকের মিছিল (ঢাকা)\\nhttps://www.facebook.com/share/r/wJ2Y55Uvkyqqbzrq/?mibextid=UalRPS\\nপ্রথম প্রহর: সাহসী মায়ের প্রতিবাদ\\nhttps://www.facebook.com/share/r/JAGzsHJ4CcGeSj1s/?mibextid=UalRPS\\nঐতিহাসিক লংমার্চ-টু-ঢাকা ঘোষনা\\nhttps://www.facebook.com/share/v/HSgYPyT5naAbDvst/?mibextid=UalRPS\\nঐতিহাসিক এক দফার ঘোষণা\\nhttps://www.facebook.com/share/v/Z2qVngDb2x3rPahK/?mibextid=UalRPS\\nঢাবিতে \\u200cঅবস্থান ও আন্দোলন\\nhttps://www.facebook.com/share/r/CvrX2CDMNp3vT3e8/?mibextid=UalRPS\\nছাত্রদের প্রতিবাদ\\nhttps://www.facebook.com/share/r/KJGTAB1bPeJQzL88/?mibextid=UalRPS\\nছাত্রীদের প্রতিবাদ -1\\nhttps://www.facebook.com/share/r/9dyzY9Nw4geZ8Nso/?mibextid=UalRPS\\nছাত্রীদের প্রতিবাদ -2\\nhttps://www.facebook.com/share/v/siPDorytqRGa7Y3X/?mibextid=UalRPS\\nস্কুলছাত্রী\\nhttps://www.facebook.com/share/r/nNK6e8Wf8DJ5wsfS/?mibextid=UalRPS\\nছোট্ট ছেলে\\nhttps://www.facebook.com/share/r/RwbJd০.stoneskPGfJSXmJ/?mibextid=UalRPS',\n",
       " '\\n৬.১. আন্দোলনের চিত্র (১০ টি ভিডিও)\\nউত্তরায় সেনাযানকে রুখে দিল জনতা\\nhttps://www.facebook.com/share/r/M9vVnZrLir3N6Zoz/?mibextid=UalRPS\\nপুলিশি বাঁধাকে জয় করা জনস্রোত\\nhttps://www.facebook.com/share/r/agpv4yHijV5y7QCU/?mibextid=UalRPS\\nঢাকার শহীদ মিনার এলাকা\\nhttps://www.facebook.com/share/r/VUc7YNWs1dkHg9Sx/?mibextid=UalRPS\\nhttps://www.facebook.com/share/r/eVvif7v64XN1zfPu/?mibextid=UalRPS\\nমিরপুর ডিওএইচএসে মানুষকে নেমে আসার আহবান জানাচ্ছে ছাত্রছাত্রীরা\\nhttps://www.facebook.com/share/r/iKuFzfH9vHpUD8YJ/?mibextid=UalRPS\\nছাত্রদের পক্ষে সেনাবাহিনীর অবস্থান\\nhttps://www.facebook.com/share/r/7cs2B6w3NdjjaP7r/?mibextid=UalRPS\\nhttps://www.facebook.com/share/r/6EHN5TKiTAKrfUgb/?mibextid=UalRPS\\nপুলিশের গাড়ি আটকে দেয়া ঢাবির সেই সাহসী ছাত্রী\\nhttps://www.facebook.com/share/r/khQ1uwpLFpHQRzCL/?mibextid=UalRPS\\nপুলিশের পলায়ন\\nhttps://www.facebook.com/share/r/SsZPHLaafCCed61k/?mibextid=UalRPS\\nপুলিশের গাড়ি পিছু হটলো\\nhttps://www.facebook.com/share/r/Qcso5vBaCnW5t6nZ/?mibextid=UalRPS\\nকোলকাতার ছাত্রছাত্রীদের প্রতিবাদ\\nhttps://www.facebook.com/share/r/mEsVVT9twHrWmw2P/?mibextid=UalRPS\\nসামনে আসছে ফাগুন, আমরা হবো দ্বিগুণ\\nhttps://www.facebook.com/share/r/rCKHgpjZR2j97QeC/?mibextid=UalRPS',\n",
       " '\\n৭.১. নাগরিক প্রতিরোধ ও অংশগ্রহণ (৬ টি ভিডিও)\\nআটক সমন্বয়কদের জন্য ডিবিতে ঢাবি শিক্ষকরা\\nhttps://www.facebook.com/share/r/feMo8YK7dTrcv11e/?mibextid=UalRPS\\nআহত ছাত্রদের চিকিৎসা সেবা (একের পর এক আহত মানুষের আগমন)\\nhttps://www.facebook.com/share/r/K5qu1EgPSpmGwVv3/?mibextid=UalRPS\\nব্র্যাক বিশ্ববিদ্যালয়ের অস্থায়ী মেডিকেল ক্যাম্প\\nhttps://www.facebook.com/share/r/obPC6jmATKFYDy5n/?mibextid=UalRPS\\nশ্রমিকদের অংশগ্রহণ\\nhttps://www.facebook.com/share/r/v21NM4VJcZHyGV8M/?mibextid=UalRPS\\nরিক্সা মিছিল\\nhttps://www.facebook.com/share/r/AFcyH8bAVepwxdgc/?mibextid=UalRPS\\nরাস্তায় নেমে আসা পিতা\\nhttps://www.facebook.com/share/r/9u3ATZfoypA3U753/?mibextid=UalRPS',\n",
       " '৮. পানি (১০টি ভিডিও)\\nএবারের অভ্যুত্থানে একটা বিশেষ স্থান দখল করে রেখেছে পানি\\nশহীদ বীর মুগ্ধর সেই ল্যান্ডমার্ক ভিডিও\\nhttps://www.facebook.com/share/r/pTt4MrGFSDgie1rq/?mibextid=UalRPS\\nপানি -১\\nhttps://www.facebook.com/share/r/7FqU2XaA4xgLeTxz/?mibextid=UalRPS\\nপানি -২\\nhttps://www.facebook.com/share/r/4pnuJXAFAea82PTF/?mibextid=UalRPS\\nপানি -৩\\nhttps://www.facebook.com/share/r/Sh7P5KcSseAwL74j/?mibextid=UalRPS\\nপানি -৪\\nhttps://www.facebook.com/share/r/XKy6RA6suYrf2gNi/?mibextid=UalRPS\\nপানি -৫\\nhttps://www.facebook.com/share/r/hGhHBi75dGLsES6c/?mibextid=UalRPS\\nপানি -৬\\nhttps://www.facebook.com/share/r/TaNqi9f5rhRLq9yd/?mibextid=UalRPS\\nপানি -৭\\nhttps://www.facebook.com/share/r/yL33xmK34xqwYL7F/?mibextid=UalRPS\\nপানি -৮\\nhttps://www.facebook.com/share/r/9npr568VuPVEWLnE/?mibextid=UalRPS\\nপানি -৯\\nhttps://www.facebook.com/share/r/N94Su7jvnbzTjNrd/?mibextid=UalRPS',\n",
       " '৯.১. বক্তব্য/প্রতিবাদ (১০টি ভিডিও)\\nছোট্ট এক ছাত্রের অসাধারণ বক্তব্য\\nhttps://www.facebook.com/share/r/U5v9cQWsNForgTqC/?mibextid=UalRPS\\nস্বৈরাচারকে উদ্দেশ্য করে এক মায়ের হৃদয়বিদারক কথা\\nhttps://www.facebook.com/share/r/NMJXVLrrG41jbxRC/?mibextid=UalRPS\\nসাধারণ পেশাজীবি\\nhttps://www.facebook.com/share/r/NKSYXqmp8yMwoHEq/?mibextid=UalRPS\\nশিক্ষিকা (হাত কাঁপছে, কন্ঠ কাঁপছে না)\\nhttps://www.facebook.com/share/r/R4XGbh3dDbCgYstP/?mibextid=UalRPS\\nশিক্ষিকা (নর্থ-সাউথ বিশ্ববিদ্যালয়)\\nhttps://www.facebook.com/share/r/41Lf2BQCxujL6tpn/?mibextid=UalRPS\\nরিক্সাশ্রমিক মামা (স্যালুট দেয়া সেই লোকটি)\\nhttps://www.facebook.com/share/r/26opeKTMxHNavtfz/?mibextid=UalRPS\\nহল ছাড়া ছাত্রের অগ্নিশপথ\\nhttps://www.facebook.com/share/r/CN8FZieu1GqSBVK9/?mibextid=UalRPS\\nছাত্রের বক্তব্য\\nhttps://www.facebook.com/share/r/7Ls6XcZdo3ZWkkqJ/?mibextid=UalRPS\\nhttps://www.facebook.com/share/r/y34efWtGhYpC43vs/?mibextid=UalRPS\\nপুলিশি গ্রেফতারের অভিজ্ঞতা (ফাইয়াজ)\\nhttps://www.facebook.com/share/r/qamDfEpxcxBvMBGi/?mibextid=UalRPS\\nগুলি খাওয়া ফাইটার\\nhttps://www.facebook.com/share/r/65sKdkReoKG1k4ZF/?mibextid=UalRPS',\n",
       " '১০. গণমাধ্যম (৭টি ভিডিও)\\nবিটিভির অপমান\\nhttps://www.facebook.com/share/r/Q8uccKsLHGT3AADf/?mibextid=UalRPS\\nযমুনা টিভির সাংবাদিক\\nhttps://www.facebook.com/share/r/2gRHTUCcLZNu1aGq/?mibextid=UalRPS\\nআবু তৈয়ব\\nhttps://www.facebook.com/share/r/Tu9aY8ez8m1oqeWy/?mibextid=UalRPS\\nটিভি প্রতিবেদককে ছাত্রের ট্রোলিং\\nhttps://www.facebook.com/share/r/GyhZ6Ujtz5wzUXfp/?mibextid=UalRPS\\nসময় টিভির সাংবাদিককে দুয়োধ্বনি\\nhttps://www.facebook.com/share/r/sumubGuYzHDhQPbj/?mibextid=UalRPS\\nসময় টিভি সাংবাদিকদের\\u200c অজুহাত\\nhttps://www.facebook.com/share/r/sNEC8JzybfVfxqH7/?mibextid=UalRPS\\nদৈনিক আজাদীর সাংবাদিককে শিক্ষাদান\\nhttps://www.facebook.com/share/v/78vz47UFsh3915pF/?mibextid=UalRPS',\n",
       " '\\n১১. গানে কবিতায় প্রতিবাদ প্রতিরোধ (৭টি ভিডিও)\\nকথা ক (শেজান)\\nhttps://www.facebook.com/share/r/uwS8xiGrBckwHeHv/?mibextid=UalRPS\\nভয় বাংলায় (সায়ান)\\nhttps://www.facebook.com/share/v/xRr3WWmt2gVVGK4n/?mibextid=UalRPS\\nগুলি কর খানকির পোলা\\nhttps://www.facebook.com/share/r/RiXXKCjE13MAE346/?mibextid=UalRPS\\nসময় থাকতে গদি ছাড়\\nhttps://www.facebook.com/share/v/QQcGfQUpcjoGzsFM/?mibextid=UalRPS\\nআওয়াজ উডা (হান্নান)\\nhttps://www.facebook.com/share/v/TsPUiCDDk1KXkW85/?mibextid=UalRPS\\nলতিফুল ইসলাম শিবলীর কবিতা\\nhttps://www.facebook.com/share/v/zCenWaAL2sXKKH2c/?mibextid=UalRPS\\nসব কিছু মনে রাখা হবে (বাংলাদেশ ভার্সন)\\nhttps://www.facebook.com/share/v/18cHBsRKww/?mibextid=UalRPS',\n",
       " '\\n১২. প্রার্থনা (৪টি ভিডিও)\\nমোনাজাত\\nhttps://www.facebook.com/share/r/VWjSsBjsxEkvHZyh/?mibextid=UalRPS\\nজামাতে নামাজ\\nhttps://www.facebook.com/share/r/UWQC33CZU9AowtBd/?mibextid=UalRPS\\nhttps://www.facebook.com/share/r/hGx2a2Azpi8f4ick/?mibextid=UalRPS\\nগণভবনে শোকরানা\\nhttps://www.facebook.com/share/r/fYVjWsMvb72JDzTb/?mibextid=UalRPS',\n",
       " '\\n৪.২. পুলিশি জুলুম (১০ টি ভিডিও)\\nনির্বশেষ গ্রেফতার\\nhttps://www.facebook.com/share/r/yoC3ycEQMKxbgThZ/?mibextid=UalRPS\\nযাত্রাবাড়ীর হত্যাযজ্ঞ (৪০ জন খুন)\\nhttps://www.facebook.com/share/v/HeUQLSgkWBxqDso6/?mibextid=UalRPS\\nযাত্রাবাড়ীতে নির্বিচার গুলি\\nhttps://www.facebook.com/share/r/h7tB2cqgnuhHUyrM/?mibextid=UalRPS\\nমাথা উঁচু করে পুলিশভ্যানের দিকে যাওয়া তরুণেরা\\nhttps://www.facebook.com/share/v/wivnn8Yx3PpBjgfb/?mibextid=UalRPS\\nজুলুমের শব্দ\\nhttps://www.facebook.com/share/r/173zJukwVV2C7o46/?mibextid=UalRPS\\nচট্টগ্রামে ছাত্রীদের ওপর নির্মম লাঠিচার্জ\\nhttps://www.facebook.com/share/r/uUDM4BrZ5Z8QYdJf/?mibextid=UalRPS\\nঢাবি হলে আক্রমণ\\nhttps://www.facebook.com/share/v/okUXK64fMrJ9CcHj/?\\nউদ্ধত পুলিশ সদস্যের বক্তব্য\\nhttps://www.facebook.com/share/v/261wHe336HBjeZGj/?\\nগুলিতে লুটিয়ে পড়া ছাত্র\\nhttps://www.facebook.com/share/r/VSbwwHyDHApDgpDw/?mibextid=UalRPS\\nথানা থেকে রক্তাক্ত মৃতদেহ সরাচ্ছে পুলিশ\\nhttps://www.facebook.com/share/v/xsNFcaW1JrdBYHgH/?mibextid=UalRPS',\n",
       " '\\n২. বিচারের দাবী (৬টি ভিডিও)\\nচোখ হারানো আবীর\\nhttps://www.facebook.com/share/r/2D4hFSnm6oczTYxa/?mibextid=UalRPS\\nচোখ হারানো ১৭ বছরের বাচ্চা\\nhttps://www.facebook.com/share/r/ct1D2BnjHyipuB1o/?mibextid=UalRPS\\nবন্ধুর মৃত্যুতে কান্নায় ভেঙে পড়া মানুষ\\nhttps://www.facebook.com/share/r/XoZ6k1dRDrSy3Q97/?mibextid=UalRPS\\nমায়ের ডাক\\nhttps://www.facebook.com/share/r/Jt45gXtdG9biTdYS/?mibextid=UalRPS\\nআহত ছাত্রের সাহায্যর আবেদন\\nhttps://www.facebook.com/share/v/DYMjbxNAz56og7Ew/?mibextid=UalRPS\\nযাত্রাবাড়ীর আহত আমজাদ (সমস্ত মুখ স্প্লিন্টারে বিক্ষত হয়ে গেছে)\\nhttps://www.facebook.com/share/v/V54HbuLBrfieWBgD/?',\n",
       " '\\n২. বিচারের দাবী (৪টি ভিডিও)\\nচোখ হারানো আবীর\\nhttps://www.facebook.com/share/r/2D4hFSnm6oczTYxa/?mibextid=UalRPS\\nচোখ হারানো ১৭ বছরের বাচ্চা\\nhttps://www.facebook.com/share/r/ct1D2BnjHyipuB1o/?mibextid=UalRPS\\nবন্ধুর মৃত্যুতে কান্নায় ভেঙে পড়া মানুষ\\nhttps://www.facebook.com/share/r/XoZ6k1dRDrSy3Q97/?mibextid=UalRPS\\nমায়ের ডাক\\nhttps://www.facebook.com/share/r/Jt45gXtdG9biTdYS/?mibextid=UalRPS',\n",
       " '\\n৬.৪. আন্দোলনের চিত্র (১০ ভিডিও)\\nচারটি পুলিশের গাড়িকে জনতার তাড়া\\nhttps://www.facebook.com/share/r/fc7KTpWW1haGUAmy/?mibextid=UalRPS\\nউত্তরা আজমপুর থানা ঘেরাও\\nhttps://www.facebook.com/share/r/WnCgZMPE5BWuAMgi/?mibextid=UalRPS\\nশহীদ হতে প্রস্তুত যুবক\\nhttps://www.facebook.com/share/r/EJgEE3Gaa5nTbebd/?mibextid=UalRPS\\nদিনাজপুরে ছাত্রীদের ব্লাটান্ট স্লোগান\\nhttps://www.facebook.com/share/r/atMEw3YLSyVoCfzG/?mibextid=UalRPS\\nপুলিশি ব্যারিকেড ভেঙে জগন্নাথ বিশ্ববিদ্যালয়ের ছাত্রদের মিছিল\\nhttps://www.facebook.com/share/r/fukUEPaDh7taJvFF/?mibextid=UalRPS\\nবুদ্ধিজীবী সলিমুল্লাহ খানের এক দফা ঘোষণা\\nhttps://www.facebook.com/share/v/8yHnF1PeAdeHYvLd/?mibextid=UalRPS\\nলংমার্চের একটি দৃশ্য\\nhttps://www.facebook.com/share/r/ACeDtiQJ6vZWZEkW/?mibextid=UalRPS\\nলংমার্চে মাদ্রাসা ছাত্রদের ঢল\\nhttps://www.facebook.com/share/r/xVDqiGwK8jEjDBnF/?mibextid=UalRPS\\nব্র্যাক বিশ্ববিদ্যালয়ে ছাত্রদের ঢল\\nhttps://www.facebook.com/share/r/ExztUo4vmWUU35Ze/?mibextid=UalRPS\\n১৮ জুলাই উত্তরা আজমপুর ব্যাপক প্রতিরোধ\\nhttps://www.facebook.com/share/r/XyQTUWwEUVdgdmdT/?mibextid=UalRPS',\n",
       " '\\n৩.২. বিজয় উদযাপন (৭টি ভিডিও)\\nস্বৈরাচার হাসিনার পলায়ন\\nhttps://www.facebook.com/share/v/KuB7EttCxHb7Fpjr/?mibextid=UalRPS\\nপ্যারিসে উদযাপন\\nhttps://www.facebook.com/share/r/qKqxonQ13uZJJC4j/?mibextid=UalRPS\\nমুর্তি অপসারন ও প্রতিকৃতিতে জুতামারা\\nhttps://www.facebook.com/share/v/WmTWCeqc3CBF2Rec/?mibextid=UalRPS\\nমুর্তি অপসারন\\n১.\\nhttps://www.facebook.com/share/r/GFTsaP8QEiaecSbK/?mibextid=UalRPS\\n২.\\nhttps://www.facebook.com/share/r/gfRy9k68wHHuzjPg/?mibextid=UalRPS\\n৩.\\nhttps://www.facebook.com/share/r/6BYBZGzuRxWUsRc9/?mibextid=UalRPS\\nপুলিশ সদস্যের নিরাপত্তা নিশ্চিত করছে জনতা\\nhttps://www.facebook.com/share/r/uNYs2weD4gbCbynx/?mibextid=UalRPS',\n",
       " '\\n৪.১. পুলিশি জুলুম (১০টি ভিডিও)\\nইন্টারনেট কেন বন্ধ ছিল?\\n(এই পোস্টের কমেন্ট সেকশনে সব লিংক)\\n(ভয়ংকর সব দৃশ্য, মন যথেষ্ট শক্ত না হলে না দেখার অনুরোধ রইল)\\nhttps://www.facebook.com/share/p/8g8VKopPbzb4A7vY/?\\n১৯ শে জুলাইর রক্তাক্ত বাংলাদেশ (যমুনা টিভি)\\n(ভায়োলেন্স এ্যালার্ট)\\nhttps://www.facebook.com/share/v/zD514cokuDjNS9WS/?mibextid=UalRPS\\nআশুলিয়ায় ভ্যানশুদ্ধ পুড়িয়ে ১১ জনকে হত্যা করা নৃশংস পুলিশ (ভায়োলেন্স এ্যালার্ট)\\nhttps://www.facebook.com/share/v/i3AsLwKdtzMsN15Q/?mibextid=UalRPS\\nপয়েন্ট ব্ল্যাংক গুলি (নির্মানাধীন বিল্ডিংয়ের কলাম)\\n(ভায়োলেন্স এ্যালার্ট)\\nhttps://www.facebook.com/share/v/2QgTaJxr7tP6BMvz/?mibextid=UalRPS\\nযাত্রাবাড়ীতে পুলিশের খুনের পর হাহাকার (ভায়োলেন্স এ্যালার্ট)\\nhttps://www.facebook.com/share/v/jrn1BZyA4EoVx42H/?mibextid=UalRPS\\nআশুলিয়ায় লাশ ভ্যানে ছুঁড়ে ফেলার দৃশ্য\\nhttps://www.facebook.com/share/v/Am9DaPXVdKJmSt6T/?mibextid=UalRPS\\nবিজয়ের দিনও পুলিশের চালানো হত্যাযজ্ঞ\\nhttps://www.facebook.com/share/r/cGBkrmtkf4YGTpST/?mibextid=UalRPS\\nRAB স্নাইপারের গুলিতে মুহূর্তে দুজনকে হত্যা\\nhttps://www.facebook.com/share/v/mxVqEVP2G3buknQn/?\\nনির্বিচারে বাসায় বাসায় পুলিশের রেইড\\nhttps://www.facebook.com/share/r/526Tbx6f9NiK4HSS/?\\nরাতের অন্ধকারে খোলারাস্তায় পুলিশ ও ছাত্রলীগ/যুবলীগের সম্মিলিত নির্মম গুলিছোঁড়া\\nhttps://www.facebook.com/share/v/F19h2qzJk9scasdX/?mibextid=UalRPS',\n",
       " '',\n",
       " '৯.২. বক্তব্য/প্রতিবাদ (৩টি ভিডিও)\\nবিশ্ববিদ্যালয় ছাত্রী গণমাধ্যমের প্রতি\\nhttps://www.facebook.com/share/r/C1SnjGEuD6Ugfn33/?mibextid=UalRPS\\nগুলিবিদ্ধ ছেলের বক্তব্য\\nhttps://www.facebook.com/share/v/9pKugEyE75TCdQv6/?mibextid=UalRPS\\nবিজিবির সাথে ছাত্রের সংলাপ\\nhttps://www.facebook.com/share/r/kQnNV2viQqoqa79T/?mibextid=UalRPS',\n",
       " '\\n৬.৩. আন্দোলনের চিত্র (১০ টি ভিডিও)\\nবুক পেতে প্রতিবাদ\\nhttps://www.facebook.com/share/r/MYaopzZA2KDtSRZL/?mibextid=UalRPS\\nhttps://www.facebook.com/share/r/iHHmZXHPpVKgM36x/?mibextid=UalRPS\\nhttps://www.facebook.com/share/r/XpKfootFFfiDgUbJ/?mibextid=UalRPS\\nরাফির বুক পেতে দেয়া নেতৃত্ব\\nhttps://www.facebook.com/share/v/oavT4ETytFGBSfQd/?mibextid=UalRPS\\nছাত্রজনতার প্রতিরোধ\\nhttps://www.facebook.com/share/r/YBq6UeuG3mzcnhTF/...\\nব্র্যাক ও ইস্টওয়েস্টের ছাত্রদের যৌথ প্রতিরোধ\\nhttps://www.facebook.com/share/r/XNnjAcaH7ZS84WUT/?mibextid=UalRPS\\nছাদ থেকে ইট ছুড়ে প্রতিরোধ\\nhttps://www.facebook.com/share/r/civwanQkXgqSYwBu/?mibextid=UalRPS\\nব্র্যাক বিশ্ববিদ্যালয়ের ছাত্রদের অসমসাহসী প্রতিরোধ\\nhttps://www.facebook.com/share/r/MY6ZifDb1t64o95o/?mibextid=UalRPS\\nসেনাবাহিনীকে চ্যালেঞ্জ করা অসমসাহসী দুই যুবক\\nhttps://www.facebook.com/share/r/CV7872YAUughQQoZ/?mibextid=UalRPS\\nসংলাপের আহবান জানিয়ে গুলির শিকার\\nhttps://www.facebook.com/share/v/XqBJvEbdLWxczhGD/?',\n",
       " '\\n১.২. শহীদ (৪ টি ভিডিও)\\nনিহতদের করুণতম দৃশ্য (নাম জানা যায়নি)\\nhttps://www.facebook.com/share/v/ryVhvvwvGYNBM4cc/?\\nগুলিবিদ্ধ তরুণকে গাড়ীতে ওঠাকে গিয়ে পিতা জানতে পারেন নিহত তাঁরই সন্তান\\nhttps://www.facebook.com/share/v/Mmo2tiNPo9PdWG2A/?mibextid=UalRPS\\nইস্টওয়েস্ট ইউনিভার্সিটির শহীদ শাহনেওয়াজ ফাহাদ\\nhttps://www.facebook.com/share/v/mojLR13mjtkQ3jBr/?\\nশহীদ ফারহান ফাইয়াজ, বাঁচানোর জন্য বন্ধুদের প্রাণান্ত প্রচেষ্টা\\nhttps://www.facebook.com/share/v/EdZKFvfwG42b8aZx/?']"
      ]
     },
     "execution_count": 12,
     "metadata": {},
     "output_type": "execute_result"
    }
   ],
   "source": [
    "link_cat"
   ]
  },
  {
   "cell_type": "code",
   "execution_count": 13,
   "metadata": {},
   "outputs": [],
   "source": [
    "link_cat = [i.lstrip() for i in link_cat]"
   ]
  },
  {
   "cell_type": "code",
   "execution_count": 14,
   "metadata": {},
   "outputs": [
    {
     "data": {
      "text/plain": [
       "['ইতিহাসের সাহসীতম প্রতিবাদ\\n(তিন তিনবার বুক পেতে গুলি নেয়া বাংলার বীর আবু সাঈদ)\\nhttps://www.facebook.com/share/v/N6GV8FpwdQtfBrGj/?mibextid=UalRPS\\nপানি লাগবে? পানি? (বীর মুগ্ধ)\\nhttps://www.facebook.com/share/r/pTt4MrGFSDgie1rq/?mibextid=UalRPS\\nশহীদ আসহাবুল ইয়ামিনের সেই হৃদয়বিদারক দৃশ্য\\nhttps://www.facebook.com/share/v/pP9AHjGwXDBV7BpR/?mibextid=UalRPS\\nপ্রথম প্রহরের বীরেরা\\nhttps://www.facebook.com/share/r/qsLYZgbqZvQpsQKE/?mibextid=UalRPS\\nশহীদ তাহমিদের পিতার আর্তনাদ\\nhttps://www.facebook.com/share/r/33kMEiVx9L4cXcZP/?mibextid=UalRPS\\nশহীদদের ছবি\\nhttps://www.facebook.com/share/r/RijEZMj12HdRqAgh/?mibextid=UalRPS\\nশহীদ তাহির হাসানের ছোট্ট মেয়ে পদ্মপ্রিয়র কথা\\nhttps://www.facebook.com/share/v/qwdN4LgoxX4gra5a/?mibextid=UalRPS\\nশিশুশহীদ আহাদের পিতার কথা\\nhttps://www.facebook.com/share/r/4mmcYQyYApS7eisV/?mibextid=UalRPS\\nব্র্যাক বিশ্ববিদ্যালয়ে যখন শহীদ আসিফ হাসানকে আনা হয়\\nhttps://www.facebook.com/share/r/AamAGFERsmAYgu83/?mibextid=UalRPS\\nবাসার বারান্দায় শহীদ নাঈমা সুলতানার গুলিবিদ্ধ হবার দৃশ্য\\nhttps://www.facebook.com/share/v/kkqe1EPL8tMa96wi/?mibextid=UalRPS',\n",
       " '৩.১. বিজয় উদযাপন (১০ টি ভিডিও)\\nপতাকা ওড়ানো উদযাপন\\nhttps://www.facebook.com/share/r/nenHXc7kFzr4xdzC/?mibextid=UalRPS\\nপ্রধানমন্ত্রীর কার্যালয় দখল ও উদযাপন\\nhttps://www.facebook.com/share/r/fpBbvjwZrbdVX8WM/?mibextid=UalRPS\\nজনতার প্যারেড -১.\\nhttps://www.facebook.com/share/r/6B9SbNt6eoTGj6Gi/?mibextid=UalRPS\\n২.\\nhttps://www.facebook.com/share/r/FTwGczE5zt8BoUwt/?mibextid=UalRPS\\nমিষ্টি বিতরণ\\nhttps://www.facebook.com/share/r/rQJuxbg2k8xC3cse/?mibextid=UalRPS\\nবিজয়ের পর সেনাবাহিনীর সাথে জনগণের উদযাপন\\nhttps://www.facebook.com/share/r/NQnb6mGr3dP4hpAb/?mibextid=UalRPS\\nসেনা-জনতার অভিবাদন\\nhttps://www.facebook.com/share/r/nJgNh48PKqvXboqX/?mibextid=UalRPS\\nঅগাস্টের ৩ তারিখে জিতে যাওয়া চট্টগ্রাম\\nhttps://www.facebook.com/share/r/wMEP5NQFTtXgtzyw/?mibextid=UalRPS\\nনরসিংদীর শহীদ তাহমিদ স্কয়ারে বিজয়ের পরপর\\nhttps://www.facebook.com/share/r/FGkoQoV1JxyumwCM/?mibextid=UalRPS\\nখুলনায় উদযাপন\\nhttps://www.facebook.com/share/r/81A8uwfU3Qsmw45q/?mibextid=UalRPS',\n",
       " '৪.৩. পুলিশি জুলুম (৯ টি ভিডিও)\\nপুরো আন্দোলনের একটি অসাধারণ ডকুমেন্ট্রি\\nhttps://www.facebook.com/share/v/1VydHuQqub/?\\n“মরে একটা, আহত হয় একটা, একটাই যায়, বাকিডি লড়েনা” - মৃতদের নিয়ে পুলিশের বিভৎস বর্ণনা\\nhttps://www.facebook.com/share/v/Ght5rQ4yYevQrydx/?mibextid=UalRPS\\nমারধোর\\nhttps://www.facebook.com/share/r/ogQnSQwxKHYrZ7hs/?mibextid=UalRPS\\nকলেমা পড়তে থাকা আহত যুবক (ভায়োলেন্স এ্যালার্ট)\\nhttps://www.facebook.com/share/r/wvdNeZWBNM52bJHh/?mibextid=UalRPS\\nগ্রেফতার হতে হতে বক্তব্য\\nhttps://www.facebook.com/share/r/wbbWrTy9aZzd8Xev/?mibextid=UalRPS\\nহেলিকপ্টার থেকে ছোঁড়া গুলি/সাউন্ড গ্রেনেড\\nhttps://www.facebook.com/share/r/7hiC4c4GH6CAXuWL/?mibextid=UalRPS\\nহেলিকপ্টার থেকে ছোঁড়া গুলি/সাউন্ড গ্রেনেড\\nhttps://www.facebook.com/share/r/kKAEQjA9toezxmdK/?mibextid=UalRPS\\nনির্বিচার গুলি\\nhttps://www.facebook.com/share/r/uhSuXVKRvBmkEKnT/?mibextid=UalRPS\\nনিরস্ত্র জনতার গায়ের ওপর বেপরোয়া গাড়ি তুলে পুলিশের হত্যাচেষ্টা\\nhttps://www.facebook.com/share/v/wsyMUoFBCNFapLuq/?',\n",
       " '৫. আওয়ামী লীগের জুলুম (১০টি ভিডিও)\\nঢাবি ছাত্রীদের মারধোর\\nhttps://www.facebook.com/share/r/gCW7UqTaK6weidRJ/?mibextid=UalRPS\\nআরাফাতের নির্লজ্জ মিথ্যাচার\\nhttps://www.facebook.com/share/r/ejgqBz8LRUJLjmEm/?mibextid=UalRPS\\nকিছু হত্যাকারীর পরিচয়\\nhttps://www.facebook.com/share/v/SGuXjYr6JcWj3E41/?mibextid=UalRPS\\nআন্দোলনরত মহিলা নাগরিককে মারধোর\\nhttps://www.facebook.com/share/v/StmjmxxuwqyriVBL/?mibextid=UalRPS\\nমর্গে নিহতদের মৃতদেহের স্তুপ\\nhttps://www.facebook.com/share/v/4BREv9ay48NVQTCh/?\\nলাশ স্থানান্তর\\nhttps://www.facebook.com/share/v/XNYjp6G5NJusUfZT/?\\nখোলারাস্তায় দিনেদুপুরে ওপেন ফায়ার করছে ছাত্রলীগের দানবেরা\\nhttps://www.facebook.com/share/v/m2xzWcTnyiaJnRVq/?mibextid=UalRPS\\nবাসার ছাদ থেকে জনতাকে লক্ষ্য করে গুলি ছুঁড়ছে আওয়ামী দানব (পরিচয়: ঝিনাইদহের পোড়াহাটি ইউনিয়নের চেয়ারম্যান শহীদুল ইসলাম হিরন)\\nhttps://www.facebook.com/share/v/yNLY4MSPsVPuxJ7e/?\\nরামদা দিয়ে নিরস্ত্র ছাত্রদের কোপাচ্ছে ছাত্রলীগের সন্ত্রাসীরা\\nhttps://www.facebook.com/share/v/Sih9SQGPb7kCcsDT/?\\nনিরস্ত্র ছাত্র কুপিয়ে হত্যা করেছে ছাত্রলীগের সন্ত্রাসীরা\\nhttps://www.facebook.com/share/v/qjV29gddXekVGF1z/?',\n",
       " '৬.২. আন্দোলনের চিত্র (১০ টি ভিডিও)\\nশুরুর দিকের মিছিল (ঢাকা)\\nhttps://www.facebook.com/share/r/wJ2Y55Uvkyqqbzrq/?mibextid=UalRPS\\nপ্রথম প্রহর: সাহসী মায়ের প্রতিবাদ\\nhttps://www.facebook.com/share/r/JAGzsHJ4CcGeSj1s/?mibextid=UalRPS\\nঐতিহাসিক লংমার্চ-টু-ঢাকা ঘোষনা\\nhttps://www.facebook.com/share/v/HSgYPyT5naAbDvst/?mibextid=UalRPS\\nঐতিহাসিক এক দফার ঘোষণা\\nhttps://www.facebook.com/share/v/Z2qVngDb2x3rPahK/?mibextid=UalRPS\\nঢাবিতে \\u200cঅবস্থান ও আন্দোলন\\nhttps://www.facebook.com/share/r/CvrX2CDMNp3vT3e8/?mibextid=UalRPS\\nছাত্রদের প্রতিবাদ\\nhttps://www.facebook.com/share/r/KJGTAB1bPeJQzL88/?mibextid=UalRPS\\nছাত্রীদের প্রতিবাদ -1\\nhttps://www.facebook.com/share/r/9dyzY9Nw4geZ8Nso/?mibextid=UalRPS\\nছাত্রীদের প্রতিবাদ -2\\nhttps://www.facebook.com/share/v/siPDorytqRGa7Y3X/?mibextid=UalRPS\\nস্কুলছাত্রী\\nhttps://www.facebook.com/share/r/nNK6e8Wf8DJ5wsfS/?mibextid=UalRPS\\nছোট্ট ছেলে\\nhttps://www.facebook.com/share/r/RwbJd০.stoneskPGfJSXmJ/?mibextid=UalRPS',\n",
       " '৬.১. আন্দোলনের চিত্র (১০ টি ভিডিও)\\nউত্তরায় সেনাযানকে রুখে দিল জনতা\\nhttps://www.facebook.com/share/r/M9vVnZrLir3N6Zoz/?mibextid=UalRPS\\nপুলিশি বাঁধাকে জয় করা জনস্রোত\\nhttps://www.facebook.com/share/r/agpv4yHijV5y7QCU/?mibextid=UalRPS\\nঢাকার শহীদ মিনার এলাকা\\nhttps://www.facebook.com/share/r/VUc7YNWs1dkHg9Sx/?mibextid=UalRPS\\nhttps://www.facebook.com/share/r/eVvif7v64XN1zfPu/?mibextid=UalRPS\\nমিরপুর ডিওএইচএসে মানুষকে নেমে আসার আহবান জানাচ্ছে ছাত্রছাত্রীরা\\nhttps://www.facebook.com/share/r/iKuFzfH9vHpUD8YJ/?mibextid=UalRPS\\nছাত্রদের পক্ষে সেনাবাহিনীর অবস্থান\\nhttps://www.facebook.com/share/r/7cs2B6w3NdjjaP7r/?mibextid=UalRPS\\nhttps://www.facebook.com/share/r/6EHN5TKiTAKrfUgb/?mibextid=UalRPS\\nপুলিশের গাড়ি আটকে দেয়া ঢাবির সেই সাহসী ছাত্রী\\nhttps://www.facebook.com/share/r/khQ1uwpLFpHQRzCL/?mibextid=UalRPS\\nপুলিশের পলায়ন\\nhttps://www.facebook.com/share/r/SsZPHLaafCCed61k/?mibextid=UalRPS\\nপুলিশের গাড়ি পিছু হটলো\\nhttps://www.facebook.com/share/r/Qcso5vBaCnW5t6nZ/?mibextid=UalRPS\\nকোলকাতার ছাত্রছাত্রীদের প্রতিবাদ\\nhttps://www.facebook.com/share/r/mEsVVT9twHrWmw2P/?mibextid=UalRPS\\nসামনে আসছে ফাগুন, আমরা হবো দ্বিগুণ\\nhttps://www.facebook.com/share/r/rCKHgpjZR2j97QeC/?mibextid=UalRPS',\n",
       " '৭.১. নাগরিক প্রতিরোধ ও অংশগ্রহণ (৬ টি ভিডিও)\\nআটক সমন্বয়কদের জন্য ডিবিতে ঢাবি শিক্ষকরা\\nhttps://www.facebook.com/share/r/feMo8YK7dTrcv11e/?mibextid=UalRPS\\nআহত ছাত্রদের চিকিৎসা সেবা (একের পর এক আহত মানুষের আগমন)\\nhttps://www.facebook.com/share/r/K5qu1EgPSpmGwVv3/?mibextid=UalRPS\\nব্র্যাক বিশ্ববিদ্যালয়ের অস্থায়ী মেডিকেল ক্যাম্প\\nhttps://www.facebook.com/share/r/obPC6jmATKFYDy5n/?mibextid=UalRPS\\nশ্রমিকদের অংশগ্রহণ\\nhttps://www.facebook.com/share/r/v21NM4VJcZHyGV8M/?mibextid=UalRPS\\nরিক্সা মিছিল\\nhttps://www.facebook.com/share/r/AFcyH8bAVepwxdgc/?mibextid=UalRPS\\nরাস্তায় নেমে আসা পিতা\\nhttps://www.facebook.com/share/r/9u3ATZfoypA3U753/?mibextid=UalRPS',\n",
       " '৮. পানি (১০টি ভিডিও)\\nএবারের অভ্যুত্থানে একটা বিশেষ স্থান দখল করে রেখেছে পানি\\nশহীদ বীর মুগ্ধর সেই ল্যান্ডমার্ক ভিডিও\\nhttps://www.facebook.com/share/r/pTt4MrGFSDgie1rq/?mibextid=UalRPS\\nপানি -১\\nhttps://www.facebook.com/share/r/7FqU2XaA4xgLeTxz/?mibextid=UalRPS\\nপানি -২\\nhttps://www.facebook.com/share/r/4pnuJXAFAea82PTF/?mibextid=UalRPS\\nপানি -৩\\nhttps://www.facebook.com/share/r/Sh7P5KcSseAwL74j/?mibextid=UalRPS\\nপানি -৪\\nhttps://www.facebook.com/share/r/XKy6RA6suYrf2gNi/?mibextid=UalRPS\\nপানি -৫\\nhttps://www.facebook.com/share/r/hGhHBi75dGLsES6c/?mibextid=UalRPS\\nপানি -৬\\nhttps://www.facebook.com/share/r/TaNqi9f5rhRLq9yd/?mibextid=UalRPS\\nপানি -৭\\nhttps://www.facebook.com/share/r/yL33xmK34xqwYL7F/?mibextid=UalRPS\\nপানি -৮\\nhttps://www.facebook.com/share/r/9npr568VuPVEWLnE/?mibextid=UalRPS\\nপানি -৯\\nhttps://www.facebook.com/share/r/N94Su7jvnbzTjNrd/?mibextid=UalRPS',\n",
       " '৯.১. বক্তব্য/প্রতিবাদ (১০টি ভিডিও)\\nছোট্ট এক ছাত্রের অসাধারণ বক্তব্য\\nhttps://www.facebook.com/share/r/U5v9cQWsNForgTqC/?mibextid=UalRPS\\nস্বৈরাচারকে উদ্দেশ্য করে এক মায়ের হৃদয়বিদারক কথা\\nhttps://www.facebook.com/share/r/NMJXVLrrG41jbxRC/?mibextid=UalRPS\\nসাধারণ পেশাজীবি\\nhttps://www.facebook.com/share/r/NKSYXqmp8yMwoHEq/?mibextid=UalRPS\\nশিক্ষিকা (হাত কাঁপছে, কন্ঠ কাঁপছে না)\\nhttps://www.facebook.com/share/r/R4XGbh3dDbCgYstP/?mibextid=UalRPS\\nশিক্ষিকা (নর্থ-সাউথ বিশ্ববিদ্যালয়)\\nhttps://www.facebook.com/share/r/41Lf2BQCxujL6tpn/?mibextid=UalRPS\\nরিক্সাশ্রমিক মামা (স্যালুট দেয়া সেই লোকটি)\\nhttps://www.facebook.com/share/r/26opeKTMxHNavtfz/?mibextid=UalRPS\\nহল ছাড়া ছাত্রের অগ্নিশপথ\\nhttps://www.facebook.com/share/r/CN8FZieu1GqSBVK9/?mibextid=UalRPS\\nছাত্রের বক্তব্য\\nhttps://www.facebook.com/share/r/7Ls6XcZdo3ZWkkqJ/?mibextid=UalRPS\\nhttps://www.facebook.com/share/r/y34efWtGhYpC43vs/?mibextid=UalRPS\\nপুলিশি গ্রেফতারের অভিজ্ঞতা (ফাইয়াজ)\\nhttps://www.facebook.com/share/r/qamDfEpxcxBvMBGi/?mibextid=UalRPS\\nগুলি খাওয়া ফাইটার\\nhttps://www.facebook.com/share/r/65sKdkReoKG1k4ZF/?mibextid=UalRPS',\n",
       " '১০. গণমাধ্যম (৭টি ভিডিও)\\nবিটিভির অপমান\\nhttps://www.facebook.com/share/r/Q8uccKsLHGT3AADf/?mibextid=UalRPS\\nযমুনা টিভির সাংবাদিক\\nhttps://www.facebook.com/share/r/2gRHTUCcLZNu1aGq/?mibextid=UalRPS\\nআবু তৈয়ব\\nhttps://www.facebook.com/share/r/Tu9aY8ez8m1oqeWy/?mibextid=UalRPS\\nটিভি প্রতিবেদককে ছাত্রের ট্রোলিং\\nhttps://www.facebook.com/share/r/GyhZ6Ujtz5wzUXfp/?mibextid=UalRPS\\nসময় টিভির সাংবাদিককে দুয়োধ্বনি\\nhttps://www.facebook.com/share/r/sumubGuYzHDhQPbj/?mibextid=UalRPS\\nসময় টিভি সাংবাদিকদের\\u200c অজুহাত\\nhttps://www.facebook.com/share/r/sNEC8JzybfVfxqH7/?mibextid=UalRPS\\nদৈনিক আজাদীর সাংবাদিককে শিক্ষাদান\\nhttps://www.facebook.com/share/v/78vz47UFsh3915pF/?mibextid=UalRPS',\n",
       " '১১. গানে কবিতায় প্রতিবাদ প্রতিরোধ (৭টি ভিডিও)\\nকথা ক (শেজান)\\nhttps://www.facebook.com/share/r/uwS8xiGrBckwHeHv/?mibextid=UalRPS\\nভয় বাংলায় (সায়ান)\\nhttps://www.facebook.com/share/v/xRr3WWmt2gVVGK4n/?mibextid=UalRPS\\nগুলি কর খানকির পোলা\\nhttps://www.facebook.com/share/r/RiXXKCjE13MAE346/?mibextid=UalRPS\\nসময় থাকতে গদি ছাড়\\nhttps://www.facebook.com/share/v/QQcGfQUpcjoGzsFM/?mibextid=UalRPS\\nআওয়াজ উডা (হান্নান)\\nhttps://www.facebook.com/share/v/TsPUiCDDk1KXkW85/?mibextid=UalRPS\\nলতিফুল ইসলাম শিবলীর কবিতা\\nhttps://www.facebook.com/share/v/zCenWaAL2sXKKH2c/?mibextid=UalRPS\\nসব কিছু মনে রাখা হবে (বাংলাদেশ ভার্সন)\\nhttps://www.facebook.com/share/v/18cHBsRKww/?mibextid=UalRPS',\n",
       " '১২. প্রার্থনা (৪টি ভিডিও)\\nমোনাজাত\\nhttps://www.facebook.com/share/r/VWjSsBjsxEkvHZyh/?mibextid=UalRPS\\nজামাতে নামাজ\\nhttps://www.facebook.com/share/r/UWQC33CZU9AowtBd/?mibextid=UalRPS\\nhttps://www.facebook.com/share/r/hGx2a2Azpi8f4ick/?mibextid=UalRPS\\nগণভবনে শোকরানা\\nhttps://www.facebook.com/share/r/fYVjWsMvb72JDzTb/?mibextid=UalRPS',\n",
       " '৪.২. পুলিশি জুলুম (১০ টি ভিডিও)\\nনির্বশেষ গ্রেফতার\\nhttps://www.facebook.com/share/r/yoC3ycEQMKxbgThZ/?mibextid=UalRPS\\nযাত্রাবাড়ীর হত্যাযজ্ঞ (৪০ জন খুন)\\nhttps://www.facebook.com/share/v/HeUQLSgkWBxqDso6/?mibextid=UalRPS\\nযাত্রাবাড়ীতে নির্বিচার গুলি\\nhttps://www.facebook.com/share/r/h7tB2cqgnuhHUyrM/?mibextid=UalRPS\\nমাথা উঁচু করে পুলিশভ্যানের দিকে যাওয়া তরুণেরা\\nhttps://www.facebook.com/share/v/wivnn8Yx3PpBjgfb/?mibextid=UalRPS\\nজুলুমের শব্দ\\nhttps://www.facebook.com/share/r/173zJukwVV2C7o46/?mibextid=UalRPS\\nচট্টগ্রামে ছাত্রীদের ওপর নির্মম লাঠিচার্জ\\nhttps://www.facebook.com/share/r/uUDM4BrZ5Z8QYdJf/?mibextid=UalRPS\\nঢাবি হলে আক্রমণ\\nhttps://www.facebook.com/share/v/okUXK64fMrJ9CcHj/?\\nউদ্ধত পুলিশ সদস্যের বক্তব্য\\nhttps://www.facebook.com/share/v/261wHe336HBjeZGj/?\\nগুলিতে লুটিয়ে পড়া ছাত্র\\nhttps://www.facebook.com/share/r/VSbwwHyDHApDgpDw/?mibextid=UalRPS\\nথানা থেকে রক্তাক্ত মৃতদেহ সরাচ্ছে পুলিশ\\nhttps://www.facebook.com/share/v/xsNFcaW1JrdBYHgH/?mibextid=UalRPS',\n",
       " '২. বিচারের দাবী (৬টি ভিডিও)\\nচোখ হারানো আবীর\\nhttps://www.facebook.com/share/r/2D4hFSnm6oczTYxa/?mibextid=UalRPS\\nচোখ হারানো ১৭ বছরের বাচ্চা\\nhttps://www.facebook.com/share/r/ct1D2BnjHyipuB1o/?mibextid=UalRPS\\nবন্ধুর মৃত্যুতে কান্নায় ভেঙে পড়া মানুষ\\nhttps://www.facebook.com/share/r/XoZ6k1dRDrSy3Q97/?mibextid=UalRPS\\nমায়ের ডাক\\nhttps://www.facebook.com/share/r/Jt45gXtdG9biTdYS/?mibextid=UalRPS\\nআহত ছাত্রের সাহায্যর আবেদন\\nhttps://www.facebook.com/share/v/DYMjbxNAz56og7Ew/?mibextid=UalRPS\\nযাত্রাবাড়ীর আহত আমজাদ (সমস্ত মুখ স্প্লিন্টারে বিক্ষত হয়ে গেছে)\\nhttps://www.facebook.com/share/v/V54HbuLBrfieWBgD/?',\n",
       " '২. বিচারের দাবী (৪টি ভিডিও)\\nচোখ হারানো আবীর\\nhttps://www.facebook.com/share/r/2D4hFSnm6oczTYxa/?mibextid=UalRPS\\nচোখ হারানো ১৭ বছরের বাচ্চা\\nhttps://www.facebook.com/share/r/ct1D2BnjHyipuB1o/?mibextid=UalRPS\\nবন্ধুর মৃত্যুতে কান্নায় ভেঙে পড়া মানুষ\\nhttps://www.facebook.com/share/r/XoZ6k1dRDrSy3Q97/?mibextid=UalRPS\\nমায়ের ডাক\\nhttps://www.facebook.com/share/r/Jt45gXtdG9biTdYS/?mibextid=UalRPS',\n",
       " '৬.৪. আন্দোলনের চিত্র (১০ ভিডিও)\\nচারটি পুলিশের গাড়িকে জনতার তাড়া\\nhttps://www.facebook.com/share/r/fc7KTpWW1haGUAmy/?mibextid=UalRPS\\nউত্তরা আজমপুর থানা ঘেরাও\\nhttps://www.facebook.com/share/r/WnCgZMPE5BWuAMgi/?mibextid=UalRPS\\nশহীদ হতে প্রস্তুত যুবক\\nhttps://www.facebook.com/share/r/EJgEE3Gaa5nTbebd/?mibextid=UalRPS\\nদিনাজপুরে ছাত্রীদের ব্লাটান্ট স্লোগান\\nhttps://www.facebook.com/share/r/atMEw3YLSyVoCfzG/?mibextid=UalRPS\\nপুলিশি ব্যারিকেড ভেঙে জগন্নাথ বিশ্ববিদ্যালয়ের ছাত্রদের মিছিল\\nhttps://www.facebook.com/share/r/fukUEPaDh7taJvFF/?mibextid=UalRPS\\nবুদ্ধিজীবী সলিমুল্লাহ খানের এক দফা ঘোষণা\\nhttps://www.facebook.com/share/v/8yHnF1PeAdeHYvLd/?mibextid=UalRPS\\nলংমার্চের একটি দৃশ্য\\nhttps://www.facebook.com/share/r/ACeDtiQJ6vZWZEkW/?mibextid=UalRPS\\nলংমার্চে মাদ্রাসা ছাত্রদের ঢল\\nhttps://www.facebook.com/share/r/xVDqiGwK8jEjDBnF/?mibextid=UalRPS\\nব্র্যাক বিশ্ববিদ্যালয়ে ছাত্রদের ঢল\\nhttps://www.facebook.com/share/r/ExztUo4vmWUU35Ze/?mibextid=UalRPS\\n১৮ জুলাই উত্তরা আজমপুর ব্যাপক প্রতিরোধ\\nhttps://www.facebook.com/share/r/XyQTUWwEUVdgdmdT/?mibextid=UalRPS',\n",
       " '৩.২. বিজয় উদযাপন (৭টি ভিডিও)\\nস্বৈরাচার হাসিনার পলায়ন\\nhttps://www.facebook.com/share/v/KuB7EttCxHb7Fpjr/?mibextid=UalRPS\\nপ্যারিসে উদযাপন\\nhttps://www.facebook.com/share/r/qKqxonQ13uZJJC4j/?mibextid=UalRPS\\nমুর্তি অপসারন ও প্রতিকৃতিতে জুতামারা\\nhttps://www.facebook.com/share/v/WmTWCeqc3CBF2Rec/?mibextid=UalRPS\\nমুর্তি অপসারন\\n১.\\nhttps://www.facebook.com/share/r/GFTsaP8QEiaecSbK/?mibextid=UalRPS\\n২.\\nhttps://www.facebook.com/share/r/gfRy9k68wHHuzjPg/?mibextid=UalRPS\\n৩.\\nhttps://www.facebook.com/share/r/6BYBZGzuRxWUsRc9/?mibextid=UalRPS\\nপুলিশ সদস্যের নিরাপত্তা নিশ্চিত করছে জনতা\\nhttps://www.facebook.com/share/r/uNYs2weD4gbCbynx/?mibextid=UalRPS',\n",
       " '৪.১. পুলিশি জুলুম (১০টি ভিডিও)\\nইন্টারনেট কেন বন্ধ ছিল?\\n(এই পোস্টের কমেন্ট সেকশনে সব লিংক)\\n(ভয়ংকর সব দৃশ্য, মন যথেষ্ট শক্ত না হলে না দেখার অনুরোধ রইল)\\nhttps://www.facebook.com/share/p/8g8VKopPbzb4A7vY/?\\n১৯ শে জুলাইর রক্তাক্ত বাংলাদেশ (যমুনা টিভি)\\n(ভায়োলেন্স এ্যালার্ট)\\nhttps://www.facebook.com/share/v/zD514cokuDjNS9WS/?mibextid=UalRPS\\nআশুলিয়ায় ভ্যানশুদ্ধ পুড়িয়ে ১১ জনকে হত্যা করা নৃশংস পুলিশ (ভায়োলেন্স এ্যালার্ট)\\nhttps://www.facebook.com/share/v/i3AsLwKdtzMsN15Q/?mibextid=UalRPS\\nপয়েন্ট ব্ল্যাংক গুলি (নির্মানাধীন বিল্ডিংয়ের কলাম)\\n(ভায়োলেন্স এ্যালার্ট)\\nhttps://www.facebook.com/share/v/2QgTaJxr7tP6BMvz/?mibextid=UalRPS\\nযাত্রাবাড়ীতে পুলিশের খুনের পর হাহাকার (ভায়োলেন্স এ্যালার্ট)\\nhttps://www.facebook.com/share/v/jrn1BZyA4EoVx42H/?mibextid=UalRPS\\nআশুলিয়ায় লাশ ভ্যানে ছুঁড়ে ফেলার দৃশ্য\\nhttps://www.facebook.com/share/v/Am9DaPXVdKJmSt6T/?mibextid=UalRPS\\nবিজয়ের দিনও পুলিশের চালানো হত্যাযজ্ঞ\\nhttps://www.facebook.com/share/r/cGBkrmtkf4YGTpST/?mibextid=UalRPS\\nRAB স্নাইপারের গুলিতে মুহূর্তে দুজনকে হত্যা\\nhttps://www.facebook.com/share/v/mxVqEVP2G3buknQn/?\\nনির্বিচারে বাসায় বাসায় পুলিশের রেইড\\nhttps://www.facebook.com/share/r/526Tbx6f9NiK4HSS/?\\nরাতের অন্ধকারে খোলারাস্তায় পুলিশ ও ছাত্রলীগ/যুবলীগের সম্মিলিত নির্মম গুলিছোঁড়া\\nhttps://www.facebook.com/share/v/F19h2qzJk9scasdX/?mibextid=UalRPS',\n",
       " '',\n",
       " '৯.২. বক্তব্য/প্রতিবাদ (৩টি ভিডিও)\\nবিশ্ববিদ্যালয় ছাত্রী গণমাধ্যমের প্রতি\\nhttps://www.facebook.com/share/r/C1SnjGEuD6Ugfn33/?mibextid=UalRPS\\nগুলিবিদ্ধ ছেলের বক্তব্য\\nhttps://www.facebook.com/share/v/9pKugEyE75TCdQv6/?mibextid=UalRPS\\nবিজিবির সাথে ছাত্রের সংলাপ\\nhttps://www.facebook.com/share/r/kQnNV2viQqoqa79T/?mibextid=UalRPS',\n",
       " '৬.৩. আন্দোলনের চিত্র (১০ টি ভিডিও)\\nবুক পেতে প্রতিবাদ\\nhttps://www.facebook.com/share/r/MYaopzZA2KDtSRZL/?mibextid=UalRPS\\nhttps://www.facebook.com/share/r/iHHmZXHPpVKgM36x/?mibextid=UalRPS\\nhttps://www.facebook.com/share/r/XpKfootFFfiDgUbJ/?mibextid=UalRPS\\nরাফির বুক পেতে দেয়া নেতৃত্ব\\nhttps://www.facebook.com/share/v/oavT4ETytFGBSfQd/?mibextid=UalRPS\\nছাত্রজনতার প্রতিরোধ\\nhttps://www.facebook.com/share/r/YBq6UeuG3mzcnhTF/...\\nব্র্যাক ও ইস্টওয়েস্টের ছাত্রদের যৌথ প্রতিরোধ\\nhttps://www.facebook.com/share/r/XNnjAcaH7ZS84WUT/?mibextid=UalRPS\\nছাদ থেকে ইট ছুড়ে প্রতিরোধ\\nhttps://www.facebook.com/share/r/civwanQkXgqSYwBu/?mibextid=UalRPS\\nব্র্যাক বিশ্ববিদ্যালয়ের ছাত্রদের অসমসাহসী প্রতিরোধ\\nhttps://www.facebook.com/share/r/MY6ZifDb1t64o95o/?mibextid=UalRPS\\nসেনাবাহিনীকে চ্যালেঞ্জ করা অসমসাহসী দুই যুবক\\nhttps://www.facebook.com/share/r/CV7872YAUughQQoZ/?mibextid=UalRPS\\nসংলাপের আহবান জানিয়ে গুলির শিকার\\nhttps://www.facebook.com/share/v/XqBJvEbdLWxczhGD/?',\n",
       " '১.২. শহীদ (৪ টি ভিডিও)\\nনিহতদের করুণতম দৃশ্য (নাম জানা যায়নি)\\nhttps://www.facebook.com/share/v/ryVhvvwvGYNBM4cc/?\\nগুলিবিদ্ধ তরুণকে গাড়ীতে ওঠাকে গিয়ে পিতা জানতে পারেন নিহত তাঁরই সন্তান\\nhttps://www.facebook.com/share/v/Mmo2tiNPo9PdWG2A/?mibextid=UalRPS\\nইস্টওয়েস্ট ইউনিভার্সিটির শহীদ শাহনেওয়াজ ফাহাদ\\nhttps://www.facebook.com/share/v/mojLR13mjtkQ3jBr/?\\nশহীদ ফারহান ফাইয়াজ, বাঁচানোর জন্য বন্ধুদের প্রাণান্ত প্রচেষ্টা\\nhttps://www.facebook.com/share/v/EdZKFvfwG42b8aZx/?']"
      ]
     },
     "execution_count": 14,
     "metadata": {},
     "output_type": "execute_result"
    }
   ],
   "source": [
    "link_cat"
   ]
  },
  {
   "cell_type": "code",
   "execution_count": null,
   "metadata": {},
   "outputs": [],
   "source": [
    "import os\n",
    "import yt_dlp\n",
    "def download_video(directory, link, file_name):\n",
    "    path = directory + '/' + file_name + '.mp4'\n",
    "    for i in range(10):\n",
    "        if os.path.exists(path):\n",
    "            path = directory + '/' + file_name + str(i) + '.mp4'\n",
    "            continue\n",
    "        break\n",
    "\n",
    "    \n",
    "    ydl_opts = {\n",
    "        'outtmpl': path,  # Output file name and extension\n",
    "    }\n",
    "    try: \n",
    "        with yt_dlp.YoutubeDL(ydl_opts) as ydl:\n",
    "            ydl.download([link])\n",
    "    except:\n",
    "        with open('error_log.txt', 'a', encoding='utf-8') as error_log:\n",
    "            print(directory, file_name, link)\n",
    "            error_log.write(directory + ' ' + file_name + ' '+ link + '\\n')\n",
    "        \n",
    "            \n",
    "    print(directory+'/'+ file_name)\n",
    "    # print(directory, link, file_name)"
   ]
  },
  {
   "cell_type": "code",
   "execution_count": null,
   "metadata": {},
   "outputs": [],
   "source": [
    "for each_line in link_cat:\n",
    "    splitted_line = each_line.split('\\n', 1)\n",
    "    folder_name = splitted_line[0]\n",
    "    link_data = splitted_line[1]\n",
    "    os.makedirs(folder_name, exist_ok=True)\n",
    "    links = link_data.split('\\n')\n",
    "    index = 0\n",
    "    for link in links:\n",
    "        if 'https' in link:\n",
    "            if 'http' not in links[links.index(link)-1]:\n",
    "                index = links.index(link)-1\n",
    "            download_video(folder_name, link, links[index])\n"
   ]
  },
  {
   "cell_type": "markdown",
   "metadata": {},
   "source": [
    "To download any video call the function like below:"
   ]
  },
  {
   "cell_type": "code",
   "execution_count": null,
   "metadata": {},
   "outputs": [],
   "source": [
    "link = \"https://m.facebook.com/watch/?v=1498488477419105&_rdr\"    # Enter facebook video link in this line\n",
    "file_name = 'Random file name'   # Enter file name as string here\n",
    "download_video('/', link, file_name)"
   ]
  }
 ],
 "metadata": {
  "kernelspec": {
   "display_name": "Python 3",
   "language": "python",
   "name": "python3"
  },
  "language_info": {
   "codemirror_mode": {
    "name": "ipython",
    "version": 3
   },
   "file_extension": ".py",
   "mimetype": "text/x-python",
   "name": "python",
   "nbconvert_exporter": "python",
   "pygments_lexer": "ipython3",
   "version": "3.9.0"
  }
 },
 "nbformat": 4,
 "nbformat_minor": 2
}
